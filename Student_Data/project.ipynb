{
 "cells": [
  {
   "cell_type": "markdown",
   "id": "b74b11a6",
   "metadata": {},
   "source": [
    "basic project to load data from cs v file anfd find pedictiin data and mae,mses and rmse"
   ]
  },
  {
   "cell_type": "code",
   "execution_count": 2,
   "id": "cd72ebd5",
   "metadata": {},
   "outputs": [
    {
     "name": "stdout",
     "output_type": "stream",
     "text": [
      "mae 0.3523809523809523\n",
      "mse 0.18095238095238053\n",
      "rmse 0.42538497969766226\n",
      "prediction SCORE on your giving data is : 60.28571428571429\n"
     ]
    },
    {
     "name": "stderr",
     "output_type": "stream",
     "text": [
      "c:\\Users\\hp\\AppData\\Local\\Programs\\Python\\Python313\\Lib\\site-packages\\sklearn\\utils\\validation.py:2749: UserWarning: X does not have valid feature names, but LinearRegression was fitted with feature names\n",
      "  warnings.warn(\n"
     ]
    }
   ],
   "source": [
    "from sklearn.metrics import mean_absolute_error,mean_squared_error\n",
    "from sklearn.linear_model import LinearRegression\n",
    "import numpy as np\n",
    "import pandas as pd\n",
    "\n",
    "df=pd.read_csv(\"student.csv\")\n",
    "\n",
    "model=LinearRegression()\n",
    "x=df[[\"hours\"]]  #model to predict score based on hours studied\n",
    "y=df[\"score\"]  #output target column score\n",
    "model.fit(x,y)\n",
    "\n",
    "prediction=model.predict(x) #model prediction on every x variable independent cvariable\n",
    "\n",
    "mae=mean_absolute_error(y,prediction) #model prediction and actual y variable dependent variable\n",
    "mse=mean_squared_error(y,prediction)\n",
    "rmse=np.sqrt(mse)\n",
    "\n",
    "print(\"mae\",mae)\n",
    "print(\"mse\",mse)\n",
    "print(\"rmse\",rmse)\n",
    "\n",
    "\n",
    "hours=float(input(\"enter the hours studeid:\"))\n",
    "\n",
    "prediction=model.predict([[hours]])\n",
    "print(\"prediction SCORE on your giving data is :\",prediction[0])"
   ]
  }
 ],
 "metadata": {
  "kernelspec": {
   "display_name": "Python 3",
   "language": "python",
   "name": "python3"
  },
  "language_info": {
   "codemirror_mode": {
    "name": "ipython",
    "version": 3
   },
   "file_extension": ".py",
   "mimetype": "text/x-python",
   "name": "python",
   "nbconvert_exporter": "python",
   "pygments_lexer": "ipython3",
   "version": "3.13.7"
  }
 },
 "nbformat": 4,
 "nbformat_minor": 5
}
